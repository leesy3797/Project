{
 "cells": [
  {
   "cell_type": "code",
   "execution_count": 28,
   "metadata": {},
   "outputs": [],
   "source": [
    "# # 필요한 패키지 설치\n",
    "# !pip install selenium webdriver_manager beautifulsoup4 pandas openpyxl"
   ]
  },
  {
   "cell_type": "code",
   "execution_count": 29,
   "metadata": {},
   "outputs": [],
   "source": [
    "# 필요한 패키지 불러오기\n",
    "import os\n",
    "import time\n",
    "import pandas as pd\n",
    "from selenium import webdriver\n",
    "from selenium.webdriver.chrome.service import Service\n",
    "from selenium.webdriver.common.by import By\n",
    "from selenium.webdriver.chrome.options import Options\n",
    "from webdriver_manager.chrome import ChromeDriverManager\n",
    "from bs4 import BeautifulSoup\n",
    "import requests\n",
    "import urllib\n",
    "from selenium.webdriver.common.by import By\n",
    "from selenium.webdriver.support.ui import WebDriverWait\n",
    "from selenium.webdriver.support import expected_conditions as EC\n",
    "import time"
   ]
  },
  {
   "cell_type": "code",
   "execution_count": 30,
   "metadata": {},
   "outputs": [],
   "source": [
    "# 파일 다운로드 함수 정의\n",
    "def download_file(url, save_path):\n",
    "    r = requests.get(url, allow_redirects=True)\n",
    "    with open(save_path, 'wb') as f:\n",
    "        f.write(r.content)\n",
    "    print(f\"파일이 다운로드되었습니다: {save_path}\")\n"
   ]
  },
  {
   "cell_type": "code",
   "execution_count": 42,
   "metadata": {},
   "outputs": [
    {
     "name": "stdout",
     "output_type": "stream",
     "text": [
      "크롬 드라이버가 실행되었습니다.\n"
     ]
    }
   ],
   "source": [
    "# 크롬 드라이버 실행\n",
    "options = webdriver.ChromeOptions()\n",
    "options.headless = False  # GUI를 보기 위해 headless 모드를 끔\n",
    "# options.add_argument(\"headless\")\n",
    "driver = webdriver.Chrome(options=options)\n",
    "\n",
    "print(\"크롬 드라이버가 실행되었습니다.\")\n"
   ]
  },
  {
   "cell_type": "code",
   "execution_count": 32,
   "metadata": {},
   "outputs": [],
   "source": [
    "# driver.quit()"
   ]
  },
  {
   "cell_type": "code",
   "execution_count": 43,
   "metadata": {},
   "outputs": [],
   "source": [
    "base_url = \"https://www.mss.go.kr/site/smba/ex/bbs/List.do?cbIdx=310\""
   ]
  },
  {
   "cell_type": "code",
   "execution_count": 44,
   "metadata": {},
   "outputs": [],
   "source": [
    "driver.get(base_url)\n",
    "time.sleep(2)"
   ]
  },
  {
   "cell_type": "code",
   "execution_count": 35,
   "metadata": {},
   "outputs": [],
   "source": [
    "# soup = BeautifulSoup(driver.page_source, 'html.parser')"
   ]
  },
  {
   "cell_type": "code",
   "execution_count": 36,
   "metadata": {},
   "outputs": [],
   "source": [
    "# 데이터를 리스트에 저장\n",
    "def download_file(url, save_path):\n",
    "    r = requests.get(url, allow_redirects=True)\n",
    "    with open(save_path, 'wb') as f:\n",
    "        f.write(r.content)\n",
    "    print(f\"파일이 다운로드되었습니다: {save_path}\")"
   ]
  },
  {
   "cell_type": "code",
   "execution_count": 62,
   "metadata": {},
   "outputs": [
    {
     "name": "stdout",
     "output_type": "stream",
     "text": [
      "-중소벤처기업부 공고 제2024-528호-\n",
      "\n",
      "중소벤처기업부와 CJ올리브영이 함께 화장품 분야 유망 중소기업을 발굴·육성하는 「K-슈퍼루키 위드영」 프로그램에 참여할 중소기업을 붙임과 같이 모집합니다.\n",
      "\n",
      "· 신청기간 :  '24. 10. 16.(수) ~ '24. 10. 31.(목)\n",
      "· 신청방법 : 올리브영 홈페이지(corp.oliveyoung.com) 접속 → 'K-슈퍼루키 위드영' 모집공고 내 서식 확인 → 담당자 이메일로 신청·접수\n"
     ]
    }
   ],
   "source": [
    "detail_url = \"https://www.mss.go.kr/site/smba/ex/bbs/View.do?cbIdx=310&bcIdx=1053763&parentSeq=1053763\"\n",
    "# # 상세 페이지로 이동하여 세부 내용 크롤링\n",
    "# driver.get(detail_url)\n",
    "# time.sleep(2)\n",
    "# description = driver.find_element(By.ID, \"editContents\").text.strip()\n",
    "# # 다시 공고 목록 페이지로 돌아가기\n",
    "# driver.back()\n",
    "# time.sleep(2)\n",
    "# print(description)\n",
    "# 상세 페이지로 이동하여 세부 내용 크롤링\n",
    "driver.get(detail_url)\n",
    "time.sleep(2)\n",
    "\n",
    "# # textarea의 내용을 추출\n",
    "# description = driver.find_element(By.ID, \"editContents\").get_attribute(\"textContent\").strip()\n",
    "\n",
    "# iframe 내부로 이동하여 추가적인 정보 추출이 필요할 경우\n",
    "iframe = driver.find_element(By.CSS_SELECTOR, \"iframe iframeRes\")\n",
    "driver.switch_to.frame(iframe)\n",
    "\n",
    "# iframe 내의 콘텐츠 크롤링 (필요시)\n",
    "iframe_content = driver.find_element(By.CSS_SELECTOR, \"body\").text.strip()\n",
    "\n",
    "# 다시 메인 페이지로 돌아오기\n",
    "driver.switch_to.default_content()\n",
    "driver.back()\n",
    "time.sleep(2)\n",
    "\n",
    "print(description)\n",
    "print(iframe_content)\n"
   ]
  },
  {
   "cell_type": "code",
   "execution_count": 37,
   "metadata": {},
   "outputs": [],
   "source": [
    "# os.getcwd()\n",
    "# ann_list = driver.find_elements(\n",
    "#     By.CSS_SELECTOR, \n",
    "#     \"#contents_inner > div > table > tbody > tr\")\n",
    "# len(ann_list)\n",
    "# for ann in ann_list:\n",
    "#     print(ann.get_attribute)"
   ]
  },
  {
   "cell_type": "code",
   "execution_count": 38,
   "metadata": {},
   "outputs": [],
   "source": [
    "# # 데이터 저장을 위한 리스트 초기화\n",
    "# data_list = []\n",
    "\n",
    "# save_path = r\"downloads\"\n",
    "\n",
    "# chapter_num = 1\n",
    "# while chapter_num <= 15:\n",
    "#     print(f\"## 챕터 번호 : {chapter_num}번\")\n",
    "#     page_num = 1\n",
    "#     while page_num <= 10:\n",
    "#         page_css = f\"#contents_inner > div > div.paging > ul > li:nth-child({page_num}) > a\"\n",
    "#         try:\n",
    "#             # 페이지 로딩을 기다림\n",
    "#             WebDriverWait(driver, 10).until(EC.element_to_be_clickable((By.CSS_SELECTOR, page_css)))\n",
    "            \n",
    "#             # 페이지 클릭\n",
    "#             driver.find_element(By.CSS_SELECTOR, page_css).click()\n",
    "#             print(f\"{page_num}번째 페이지로 이동 중...\")\n",
    "\n",
    "#             # 페이지가 로드될 때까지 대기\n",
    "#             time.sleep(1.4)\n",
    "\n",
    "#             page_num += 1\n",
    "#         except Exception as e:\n",
    "#             print(f\"에러 발생: {e}\")\n",
    "#             break  # 더 이상 진행할 수 없으면 루프를 종료\n",
    "#         # ann_list = driver.find_elements(\n",
    "#         #     By.CSS_SELECTOR, \n",
    "#         #     \"#contents_inner > div > table > tbody > tr\")\n",
    "\n",
    "#         # for ann in ann_list:\n",
    "#         #     title = ann.find_element(By.CSS_SELECTOR, \"td.subject\").text\n",
    "#         #     application_period = ann.find_element(By.CSS_SELECTOR, \"td:nth-child(2)\").text\n",
    "#         #     announcement_number = ann.find_element(By.CSS_SELECTOR, \"td:nth-child(3)\").text\n",
    "#         #     department = ann.find_element(By.CSS_SELECTOR, \"td:nth-child(6)\").text\n",
    "#         #     posted_date = ann.find_element(By.CSS_SELECTOR, \"td:nth-child(7)\").text\n",
    "#         #     url = ann.find_element(By.CSS_SELECTOR, \"td.attached-files > a\").get_attribute('href')\n",
    "#         #     onclick_attr = ann.find_element(By.CSS_SELECTOR, \"td.subject > a\").get_attribute(\"onclick\")\n",
    "#         #     args = onclick_attr.split(\"'\")[1::2]\n",
    "#         #     cbIdx = args[0]\n",
    "#         #     bcIdx = args[1]\n",
    "#         #     parentSeq = args[3]\n",
    "#         #     detail_url = f\"https://www.mss.go.kr/site/smba/ex/bbs/View.do?cbIdx={cbIdx}&bcIdx={bcIdx}&parentSeq={parentSeq}\"\n",
    "#         #     if url:\n",
    "#         #         r = requests.get(url, allow_redirects=True)\n",
    "#         #         encoded_file_name = r.headers[\"Content-Disposition\"].split(\"filename=\")[-1].strip('\"')\n",
    "#         #         decoded_file_name = urllib.parse.unquote(encoded_file_name)\n",
    "#         #         file_path = os.path.join(save_path, decoded_file_name)\n",
    "#         #         with open(file_path, 'wb') as f:\n",
    "#         #             f.write(r.content)\n",
    "#         #     attachment = file_path\n",
    "#         #     data_list.append({\n",
    "#         #     \"제목\": title,\n",
    "#         #     \"신청기간\": application_period,\n",
    "#         #     \"공고번호\": announcement_number,\n",
    "#         #     \"담당부서\": department,\n",
    "#         #     \"첨부파일\": attachment,\n",
    "#         #     \"세부 URL\": detail_url,\n",
    "#         #     \"등록일\": posted_date\n",
    "#         #     })\n",
    "#             print(f\"페이지 번호 : {page_num}번\")\n",
    "#     driver.find_element(By.CSS_SELECTOR, f\"#contents_inner > div > div.paging > a.next.ri-arrow-right-s-line\").click()\n",
    "#     time.sleep(1.75)\n",
    "#     chapter_num += 1\n",
    "#     # try:\n",
    "#     #     driver.find_element(By.CSS_SELECTOR, \"#contents_inner > div > div.paging > a.next.ri-arrow-right-s-line\").click()\n",
    "#     #     i+=1\n",
    "#     #     print(f\"{i}페이지 이동\")\n",
    "#     # except:\n",
    "#     #     NEXT_PAGE = False"
   ]
  },
  {
   "cell_type": "code",
   "execution_count": 39,
   "metadata": {},
   "outputs": [
    {
     "name": "stdout",
     "output_type": "stream",
     "text": [
      "https://www.mss.go.kr/common/board/Download.do?bcIdx=1053763&cbIdx=310&streFileNm=dc0aa0f3-3b49-4ffc-8f34-13ee8d0bfc30.hwpx\n"
     ]
    }
   ],
   "source": [
    "NO_MORE_PAGE = True\n",
    "data_list = []\n",
    "page = 1\n",
    "save_path = r\"downloads\"\n",
    "while page <= 10:\n",
    "    try:\n",
    "        driver.get(f\"{base_url}&pageIndex={page}\")\n",
    "        time.sleep(2)  # 페이지 로딩 대기\n",
    "            \n",
    "        ann_list = driver.find_elements(\n",
    "            By.CSS_SELECTOR, \n",
    "            \"#contents_inner > div > table > tbody > tr\")\n",
    "\n",
    "        for ann in ann_list:\n",
    "            title = ann.find_element(By.CSS_SELECTOR, \"td.subject\").text\n",
    "            application_period = ann.find_element(By.CSS_SELECTOR, \"td:nth-child(3)\").text\n",
    "            announcement_number = ann.find_element(By.CSS_SELECTOR, \"td:nth-child(4)\").text\n",
    "            department = ann.find_element(By.CSS_SELECTOR, \"td:nth-child(6)\").text\n",
    "            posted_date = ann.find_element(By.CSS_SELECTOR, \"td:nth-child(7)\").text\n",
    "            url = ann.find_element(By.CSS_SELECTOR, \"td.attached-files > a\").get_attribute('href')\n",
    "            onclick_attr = ann.find_element(By.CSS_SELECTOR, \"td.subject > a\").get_attribute(\"onclick\")\n",
    "            args = onclick_attr.split(\"'\")[1::2]\n",
    "            cbIdx = args[0]\n",
    "            bcIdx = args[1]\n",
    "            parentSeq = args[3]\n",
    "            detail_url = f\"https://www.mss.go.kr/site/smba/ex/bbs/View.do?cbIdx={cbIdx}&bcIdx={bcIdx}&parentSeq={parentSeq}\"\n",
    "            # 상세 페이지로 이동하여 세부 내용 크롤링\n",
    "            driver.get(detail_url)\n",
    "            time.sleep(2)\n",
    "            description = driver.find_element(By.CSS_SELECTOR, \"#contents_inner > div > table > tbody > tr.m-block > td > div > div > textarea\").text.strip()\n",
    "            # 다시 공고 목록 페이지로 돌아가기\n",
    "            driver.back()\n",
    "            time.sleep(2)\n",
    "            # if url:\n",
    "            #     r = requests.get(url, allow_redirects=True)\n",
    "            #     encoded_file_name = r.headers[\"Content-Disposition\"].split(\"filename=\")[-1].strip('\"')\n",
    "            #     decoded_file_name = urllib.parse.unquote(encoded_file_name)\n",
    "            #     file_path = os.path.join(save_path, decoded_file_name)\n",
    "            #     with open(file_path, 'wb') as f:\n",
    "            #         f.write(r.content)\n",
    "            # attachment = file_path\n",
    "            data_list.append({\n",
    "            \"제목\": title,\n",
    "            \"신청기간\": application_period,\n",
    "            \"공고번호\": announcement_number,\n",
    "            \"담당부서\": department,\n",
    "            \"첨부파일\": url,\n",
    "            \"세부 URL\": detail_url,\n",
    "            \"등록일\": posted_date,\n",
    "            \"설명\" : description\n",
    "            })\n",
    "            print(url)\n",
    "            break\n",
    "        driver.execute_script(\"window.scrollBy(0, 500);\")\n",
    "        time.sleep(1)\n",
    "        driver.execute_script(\"window.scrollBy(0, 500);\")\n",
    "        time.sleep(1)\n",
    "        driver.execute_script(\"window.scrollBy(0, 500);\")\n",
    "        time.sleep(1)\n",
    "        page += 1\n",
    "        break\n",
    "    except:\n",
    "        NO_MORE_PAGE = False"
   ]
  },
  {
   "cell_type": "code",
   "execution_count": 47,
   "metadata": {},
   "outputs": [
    {
     "data": {
      "text/plain": [
       "array(['https://www.mss.go.kr/site/smba/ex/bbs/View.do?cbIdx=310&bcIdx=1053763&parentSeq=1053763'],\n",
       "      dtype=object)"
      ]
     },
     "execution_count": 47,
     "metadata": {},
     "output_type": "execute_result"
    }
   ],
   "source": [
    "# 1/0\n",
    "pd.DataFrame(data_list)[\"세부 URL\"].values"
   ]
  },
  {
   "cell_type": "code",
   "execution_count": 41,
   "metadata": {},
   "outputs": [],
   "source": [
    "driver.quit()"
   ]
  },
  {
   "cell_type": "code",
   "execution_count": 6,
   "metadata": {},
   "outputs": [
    {
     "data": {
      "text/plain": [
       "'https://www.mss.go.kr/common/board/Download.do?bcIdx=1053763&cbIdx=310&streFileNm=dc0aa0f3-3b49-4ffc-8f34-13ee8d0bfc30.hwpx'"
      ]
     },
     "execution_count": 6,
     "metadata": {},
     "output_type": "execute_result"
    }
   ],
   "source": [
    "import pandas as pd\n",
    "pd.read_excel('downloads/announcements.xlsx')[\"첨부파일\"][0]"
   ]
  },
  {
   "cell_type": "code",
   "execution_count": 9,
   "metadata": {},
   "outputs": [],
   "source": [
    "import sqlite3\n",
    "\n",
    "conn = sqlite3.connect(\"mss_sqlite.db\")\n",
    "cursor = conn.cursor()"
   ]
  },
  {
   "cell_type": "code",
   "execution_count": 10,
   "metadata": {},
   "outputs": [],
   "source": [
    "results = cursor.execute(\"Select * from announcements\")"
   ]
  },
  {
   "cell_type": "code",
   "execution_count": 11,
   "metadata": {},
   "outputs": [],
   "source": [
    "db = pd.DataFrame(\n",
    "    data = results.fetchall(),\n",
    "    columns=[row[0] for row in results.description]\n",
    ")"
   ]
  },
  {
   "cell_type": "code",
   "execution_count": 12,
   "metadata": {},
   "outputs": [
    {
     "data": {
      "text/plain": [
       "'https://www.mss.go.kr/common/board/Download.do?bcIdx=1053763&cbIdx=310&streFileNm=dc0aa0f3-3b49-4ffc-8f34-13ee8d0bfc30.hwpx'"
      ]
     },
     "execution_count": 12,
     "metadata": {},
     "output_type": "execute_result"
    }
   ],
   "source": [
    "db.attachment[0]"
   ]
  },
  {
   "cell_type": "code",
   "execution_count": 51,
   "metadata": {},
   "outputs": [
    {
     "name": "stdout",
     "output_type": "stream",
     "text": [
      "<class 'pandas.core.frame.DataFrame'>\n",
      "RangeIndex: 238 entries, 0 to 237\n",
      "Data columns (total 8 columns):\n",
      " #   Column               Non-Null Count  Dtype \n",
      "---  ------               --------------  ----- \n",
      " 0   id                   238 non-null    int64 \n",
      " 1   title                238 non-null    object\n",
      " 2   application_period   238 non-null    object\n",
      " 3   announcement_number  238 non-null    object\n",
      " 4   department           238 non-null    object\n",
      " 5   attachment           238 non-null    object\n",
      " 6   url                  238 non-null    object\n",
      " 7   posted_date          238 non-null    object\n",
      "dtypes: int64(1), object(7)\n",
      "memory usage: 15.0+ KB\n"
     ]
    }
   ],
   "source": [
    "db.info()"
   ]
  },
  {
   "cell_type": "code",
   "execution_count": 13,
   "metadata": {},
   "outputs": [],
   "source": [
    "cursor.close()\n",
    "conn.close()"
   ]
  },
  {
   "cell_type": "code",
   "execution_count": null,
   "metadata": {},
   "outputs": [],
   "source": []
  }
 ],
 "metadata": {
  "kernelspec": {
   "display_name": "langchain",
   "language": "python",
   "name": "python3"
  },
  "language_info": {
   "codemirror_mode": {
    "name": "ipython",
    "version": 3
   },
   "file_extension": ".py",
   "mimetype": "text/x-python",
   "name": "python",
   "nbconvert_exporter": "python",
   "pygments_lexer": "ipython3",
   "version": "3.12.4"
  }
 },
 "nbformat": 4,
 "nbformat_minor": 2
}
